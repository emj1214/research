{
 "cells": [
  {
   "cell_type": "markdown",
   "metadata": {},
   "source": [
    "started writing at 2:45\n",
    "stopped writing 4:45"
   ]
  },
  {
   "cell_type": "code",
   "execution_count": null,
   "metadata": {},
   "outputs": [],
   "source": []
  }
 ],
 "metadata": {
  "kernelspec": {
   "display_name": "Python 3.10.2 64-bit ('3.10.2')",
   "language": "python",
   "name": "python3"
  },
  "language_info": {
   "codemirror_mode": {
    "name": "ipython",
    "version": 3
   },
   "file_extension": ".py",
   "mimetype": "text/x-python",
   "name": "python",
   "nbconvert_exporter": "python",
   "pygments_lexer": "ipython3",
   "version": "3.10.2"
  },
  "orig_nbformat": 4,
  "vscode": {
   "interpreter": {
    "hash": "20226ff3862742e648f832c11e634d1af856dda8eb3f36668caa1f76e51e88a3"
   }
  }
 },
 "nbformat": 4,
 "nbformat_minor": 2
}
